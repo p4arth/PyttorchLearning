{
  "nbformat": 4,
  "nbformat_minor": 0,
  "metadata": {
    "colab": {
      "name": "PyGradDes.ipynb",
      "provenance": [],
      "authorship_tag": "ABX9TyOFqOnylLd85LW2UafNHe3+",
      "include_colab_link": true
    },
    "kernelspec": {
      "name": "python3",
      "display_name": "Python 3"
    },
    "language_info": {
      "name": "python"
    }
  },
  "cells": [
    {
      "cell_type": "markdown",
      "metadata": {
        "id": "view-in-github",
        "colab_type": "text"
      },
      "source": [
        "<a href=\"https://colab.research.google.com/github/p4arth/PyttorchLearning/blob/main/PyGradDes.ipynb\" target=\"_parent\"><img src=\"https://colab.research.google.com/assets/colab-badge.svg\" alt=\"Open In Colab\"/></a>"
      ]
    },
    {
      "cell_type": "code",
      "metadata": {
        "id": "_NZRfSNoiTg-"
      },
      "source": [
        "import torch"
      ],
      "execution_count": 1,
      "outputs": []
    },
    {
      "cell_type": "code",
      "metadata": {
        "id": "QqE09Ai-iW-9"
      },
      "source": [
        " import numpy as np"
      ],
      "execution_count": 2,
      "outputs": []
    },
    {
      "cell_type": "code",
      "metadata": {
        "id": "ZlhVgkJYnBOO"
      },
      "source": [
        "x = np.array([1,2,3,4], dtype=np.float32)\n",
        "y = np.array([2,4,6,8], dtype=np.float32)"
      ],
      "execution_count": 5,
      "outputs": []
    },
    {
      "cell_type": "code",
      "metadata": {
        "id": "K-czKtE_nTmp"
      },
      "source": [
        "w = 0.0\n",
        "# calc model prediction\n",
        "# loss\n",
        "# grad"
      ],
      "execution_count": 4,
      "outputs": []
    },
    {
      "cell_type": "code",
      "metadata": {
        "colab": {
          "base_uri": "https://localhost:8080/"
        },
        "id": "fvME0PYVnUuA",
        "outputId": "41e9dc01-50b1-4e01-ee37-a03a71a69dbe"
      },
      "source": [
        "\n",
        "\n",
        "print(f'prediction before training: f(5) = {forward(5)}')"
      ],
      "execution_count": 6,
      "outputs": [
        {
          "output_type": "stream",
          "name": "stdout",
          "text": [
            "prediction before training: f(5) = 0.0\n"
          ]
        }
      ]
    },
    {
      "cell_type": "code",
      "metadata": {
        "colab": {
          "base_uri": "https://localhost:8080/"
        },
        "id": "TqRaZjV3oPxr",
        "outputId": "32353eb9-af0b-4d0c-93c7-02a603f6b1af"
      },
      "source": [
        "learning_rate = 0.01\n",
        "n_iter = 20\n",
        "for epoch in range(n_iter):\n",
        "  y_pred = forward(x)\n",
        "  l = loss(y,y_pred)\n",
        "\n",
        "  # gradients\n",
        "  dw = gradient(x,y,y_pred)\n",
        "\n",
        "  w = w - learning_rate * dw\n",
        "\n",
        "  if epoch % 1 == 0:\n",
        "    print(f'epoch {epoch+1}, w = {w}')\n",
        "print(f'prediction after training: f(5) = {forward(5)}') # done manually"
      ],
      "execution_count": 8,
      "outputs": [
        {
          "output_type": "stream",
          "name": "stdout",
          "text": [
            "epoch 1, w = 1.9999160599708554\n",
            "epoch 2, w = 1.9999664139747617\n",
            "epoch 3, w = 1.9999865984916685\n",
            "epoch 4, w = 1.9999946093559262\n",
            "epoch 5, w = 1.9999978351593015\n",
            "epoch 6, w = 1.9999991369247434\n",
            "epoch 7, w = 1.9999996304512022\n",
            "epoch 8, w = 1.999999837875366\n",
            "epoch 9, w = 1.9999999165534972\n",
            "epoch 10, w = 1.9999999952316283\n",
            "epoch 11, w = 1.9999999952316283\n",
            "epoch 12, w = 1.9999999952316283\n",
            "epoch 13, w = 1.9999999952316283\n",
            "epoch 14, w = 1.9999999952316283\n",
            "epoch 15, w = 1.9999999952316283\n",
            "epoch 16, w = 1.9999999952316283\n",
            "epoch 17, w = 1.9999999952316283\n",
            "epoch 18, w = 1.9999999952316283\n",
            "epoch 19, w = 1.9999999952316283\n",
            "epoch 20, w = 1.9999999952316283\n",
            "prediction after training: f(5) = 9.999999976158142\n"
          ]
        }
      ]
    },
    {
      "cell_type": "code",
      "metadata": {
        "colab": {
          "base_uri": "https://localhost:8080/"
        },
        "id": "AxvIWlR6pbu0",
        "outputId": "47083f40-8f1c-49bc-ff4b-a82f869446a2"
      },
      "source": [
        "# using torch\n",
        "x1 = torch.tensor([1,2,3,4], dtype=torch.float32)\n",
        "y1 = torch.tensor([2,4,6,8], dtype=torch.float32)\n",
        "print(x1)\n",
        "print(y1)"
      ],
      "execution_count": 18,
      "outputs": [
        {
          "output_type": "stream",
          "name": "stdout",
          "text": [
            "tensor([1., 2., 3., 4.])\n",
            "tensor([2., 4., 6., 8.])\n"
          ]
        }
      ]
    },
    {
      "cell_type": "code",
      "metadata": {
        "colab": {
          "base_uri": "https://localhost:8080/"
        },
        "id": "Bh0gju7GpyHV",
        "outputId": "1bd240c8-8e15-41c5-d062-9cd59660bce0"
      },
      "source": [
        "w1 = torch.tensor(0.0,dtype=torch.float32,requires_grad= True)\n",
        "print(w1)"
      ],
      "execution_count": 20,
      "outputs": [
        {
          "output_type": "stream",
          "name": "stdout",
          "text": [
            "tensor(0., requires_grad=True)\n"
          ]
        }
      ]
    },
    {
      "cell_type": "code",
      "metadata": {
        "id": "vvgXZWzPxJ3l"
      },
      "source": [
        "def forward(x):\n",
        "  return w1 * x\n",
        "\n",
        "def loss(y,y_predicted): \n",
        "  return ((y_predicted - y)**2).mean()\n",
        "\n",
        "def gradient(x,y,y_predicted):\n",
        "  return np.dot(2*x,y_predicted - y).mean() "
      ],
      "execution_count": 21,
      "outputs": []
    },
    {
      "cell_type": "code",
      "metadata": {
        "colab": {
          "base_uri": "https://localhost:8080/",
          "height": 410
        },
        "id": "VNFGSjzaqWSk",
        "outputId": "0ad93297-a70d-4266-e207-f6d79b336135"
      },
      "source": [
        "learning_rate = 0.01\n",
        "n_iter = 20\n",
        "for epoch in range(n_iter):\n",
        "  y_pred1 = forward(x1)\n",
        "  l = loss(y1,y_pred1)\n",
        "  print(l)\n",
        "\n",
        "  # gradients\n",
        "  l.backward()\n",
        "  with torch.no_grad():\n",
        "    w1 = w1 - learning_rate * w1.grad\n",
        "\n",
        "  if epoch % 1 == 0:\n",
        "    print(f'epoch {epoch+1}, w = {w}')\n",
        "    \n",
        "print(f'prediction after training: f(5) = {forward(5)}')"
      ],
      "execution_count": 22,
      "outputs": [
        {
          "output_type": "stream",
          "name": "stdout",
          "text": [
            "tensor(30., grad_fn=<MeanBackward0>)\n",
            "epoch 1, w = 1.9999999952316283\n",
            "tensor(21.6750)\n"
          ]
        },
        {
          "output_type": "error",
          "ename": "RuntimeError",
          "evalue": "ignored",
          "traceback": [
            "\u001b[0;31m---------------------------------------------------------------------------\u001b[0m",
            "\u001b[0;31mRuntimeError\u001b[0m                              Traceback (most recent call last)",
            "\u001b[0;32m<ipython-input-22-31e9f5fcb0d2>\u001b[0m in \u001b[0;36m<module>\u001b[0;34m()\u001b[0m\n\u001b[1;32m      7\u001b[0m \u001b[0;34m\u001b[0m\u001b[0m\n\u001b[1;32m      8\u001b[0m   \u001b[0;31m# gradients\u001b[0m\u001b[0;34m\u001b[0m\u001b[0;34m\u001b[0m\u001b[0;34m\u001b[0m\u001b[0m\n\u001b[0;32m----> 9\u001b[0;31m   \u001b[0ml\u001b[0m\u001b[0;34m.\u001b[0m\u001b[0mbackward\u001b[0m\u001b[0;34m(\u001b[0m\u001b[0;34m)\u001b[0m\u001b[0;34m\u001b[0m\u001b[0;34m\u001b[0m\u001b[0m\n\u001b[0m\u001b[1;32m     10\u001b[0m   \u001b[0;32mwith\u001b[0m \u001b[0mtorch\u001b[0m\u001b[0;34m.\u001b[0m\u001b[0mno_grad\u001b[0m\u001b[0;34m(\u001b[0m\u001b[0;34m)\u001b[0m\u001b[0;34m:\u001b[0m\u001b[0;34m\u001b[0m\u001b[0;34m\u001b[0m\u001b[0m\n\u001b[1;32m     11\u001b[0m     \u001b[0mw1\u001b[0m \u001b[0;34m=\u001b[0m \u001b[0mw1\u001b[0m \u001b[0;34m-\u001b[0m \u001b[0mlearning_rate\u001b[0m \u001b[0;34m*\u001b[0m \u001b[0mw1\u001b[0m\u001b[0;34m.\u001b[0m\u001b[0mgrad\u001b[0m\u001b[0;34m\u001b[0m\u001b[0;34m\u001b[0m\u001b[0m\n",
            "\u001b[0;32m/usr/local/lib/python3.7/dist-packages/torch/_tensor.py\u001b[0m in \u001b[0;36mbackward\u001b[0;34m(self, gradient, retain_graph, create_graph, inputs)\u001b[0m\n\u001b[1;32m    253\u001b[0m                 \u001b[0mcreate_graph\u001b[0m\u001b[0;34m=\u001b[0m\u001b[0mcreate_graph\u001b[0m\u001b[0;34m,\u001b[0m\u001b[0;34m\u001b[0m\u001b[0;34m\u001b[0m\u001b[0m\n\u001b[1;32m    254\u001b[0m                 inputs=inputs)\n\u001b[0;32m--> 255\u001b[0;31m         \u001b[0mtorch\u001b[0m\u001b[0;34m.\u001b[0m\u001b[0mautograd\u001b[0m\u001b[0;34m.\u001b[0m\u001b[0mbackward\u001b[0m\u001b[0;34m(\u001b[0m\u001b[0mself\u001b[0m\u001b[0;34m,\u001b[0m \u001b[0mgradient\u001b[0m\u001b[0;34m,\u001b[0m \u001b[0mretain_graph\u001b[0m\u001b[0;34m,\u001b[0m \u001b[0mcreate_graph\u001b[0m\u001b[0;34m,\u001b[0m \u001b[0minputs\u001b[0m\u001b[0;34m=\u001b[0m\u001b[0minputs\u001b[0m\u001b[0;34m)\u001b[0m\u001b[0;34m\u001b[0m\u001b[0;34m\u001b[0m\u001b[0m\n\u001b[0m\u001b[1;32m    256\u001b[0m \u001b[0;34m\u001b[0m\u001b[0m\n\u001b[1;32m    257\u001b[0m     \u001b[0;32mdef\u001b[0m \u001b[0mregister_hook\u001b[0m\u001b[0;34m(\u001b[0m\u001b[0mself\u001b[0m\u001b[0;34m,\u001b[0m \u001b[0mhook\u001b[0m\u001b[0;34m)\u001b[0m\u001b[0;34m:\u001b[0m\u001b[0;34m\u001b[0m\u001b[0;34m\u001b[0m\u001b[0m\n",
            "\u001b[0;32m/usr/local/lib/python3.7/dist-packages/torch/autograd/__init__.py\u001b[0m in \u001b[0;36mbackward\u001b[0;34m(tensors, grad_tensors, retain_graph, create_graph, grad_variables, inputs)\u001b[0m\n\u001b[1;32m    147\u001b[0m     Variable._execution_engine.run_backward(\n\u001b[1;32m    148\u001b[0m         \u001b[0mtensors\u001b[0m\u001b[0;34m,\u001b[0m \u001b[0mgrad_tensors_\u001b[0m\u001b[0;34m,\u001b[0m \u001b[0mretain_graph\u001b[0m\u001b[0;34m,\u001b[0m \u001b[0mcreate_graph\u001b[0m\u001b[0;34m,\u001b[0m \u001b[0minputs\u001b[0m\u001b[0;34m,\u001b[0m\u001b[0;34m\u001b[0m\u001b[0;34m\u001b[0m\u001b[0m\n\u001b[0;32m--> 149\u001b[0;31m         allow_unreachable=True, accumulate_grad=True)  # allow_unreachable flag\n\u001b[0m\u001b[1;32m    150\u001b[0m \u001b[0;34m\u001b[0m\u001b[0m\n\u001b[1;32m    151\u001b[0m \u001b[0;34m\u001b[0m\u001b[0m\n",
            "\u001b[0;31mRuntimeError\u001b[0m: element 0 of tensors does not require grad and does not have a grad_fn"
          ]
        }
      ]
    }
  ]
}