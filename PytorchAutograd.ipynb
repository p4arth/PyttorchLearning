{
  "nbformat": 4,
  "nbformat_minor": 0,
  "metadata": {
    "colab": {
      "name": "PytorchAutograd.ipynb",
      "provenance": [],
      "authorship_tag": "ABX9TyOsDNLzj56NZcHidEE8tjE8",
      "include_colab_link": true
    },
    "kernelspec": {
      "name": "python3",
      "display_name": "Python 3"
    },
    "language_info": {
      "name": "python"
    }
  },
  "cells": [
    {
      "cell_type": "markdown",
      "metadata": {
        "id": "view-in-github",
        "colab_type": "text"
      },
      "source": [
        "<a href=\"https://colab.research.google.com/github/p4arth/PyttorchLearning/blob/main/PytorchAutograd.ipynb\" target=\"_parent\"><img src=\"https://colab.research.google.com/assets/colab-badge.svg\" alt=\"Open In Colab\"/></a>"
      ]
    },
    {
      "cell_type": "code",
      "metadata": {
        "id": "uC9d5RzTdfiy"
      },
      "source": [
        "import torch"
      ],
      "execution_count": 1,
      "outputs": []
    },
    {
      "cell_type": "code",
      "metadata": {
        "colab": {
          "base_uri": "https://localhost:8080/"
        },
        "id": "h5zt7Tdwdqb1",
        "outputId": "c749cb19-f491-4c9e-8890-ab3ac8c3e9d6"
      },
      "source": [
        "x = torch.randn(3, requires_grad=True) # Creates computational graph\n",
        "print(x) "
      ],
      "execution_count": 3,
      "outputs": [
        {
          "output_type": "stream",
          "name": "stdout",
          "text": [
            "tensor([-0.5171, -1.9311, -0.9759], requires_grad=True)\n"
          ]
        }
      ]
    },
    {
      "cell_type": "code",
      "metadata": {
        "colab": {
          "base_uri": "https://localhost:8080/"
        },
        "id": "xY9blqifd6EY",
        "outputId": "1e8eedc0-aadf-4964-e2c9-9b78cc4332d4"
      },
      "source": [
        "y = x+2\n",
        "print(y)\n",
        "z = y*y*2\n",
        "print(z)\n",
        "# z = z.mean() \n",
        "print(z)"
      ],
      "execution_count": 12,
      "outputs": [
        {
          "output_type": "stream",
          "name": "stdout",
          "text": [
            "tensor([1.4829, 0.0689, 1.0241], grad_fn=<AddBackward0>)\n",
            "tensor([4.3980, 0.0095, 2.0975], grad_fn=<MulBackward0>)\n",
            "tensor([4.3980, 0.0095, 2.0975], grad_fn=<MulBackward0>)\n"
          ]
        }
      ]
    },
    {
      "cell_type": "code",
      "metadata": {
        "colab": {
          "base_uri": "https://localhost:8080/"
        },
        "id": "t8D7FrEEf2Df",
        "outputId": "7de635fa-17b7-4428-96fd-0331ddb874df"
      },
      "source": [
        "x.requires_grad_(False)"
      ],
      "execution_count": 14,
      "outputs": [
        {
          "output_type": "execute_result",
          "data": {
            "text/plain": [
              "tensor([-0.5171, -1.9311, -0.9759])"
            ]
          },
          "metadata": {},
          "execution_count": 14
        }
      ]
    },
    {
      "cell_type": "code",
      "metadata": {
        "colab": {
          "base_uri": "https://localhost:8080/"
        },
        "id": "73PmLztagP5I",
        "outputId": "51e609f0-18d9-4bb1-fb1a-6dc4ab167120"
      },
      "source": [
        "with torch.no_grad():\n",
        "   y = x + 2\n",
        "print(y)"
      ],
      "execution_count": 15,
      "outputs": [
        {
          "output_type": "stream",
          "name": "stdout",
          "text": [
            "tensor([1.4829, 0.0689, 1.0241])\n"
          ]
        }
      ]
    },
    {
      "cell_type": "code",
      "metadata": {
        "colab": {
          "base_uri": "https://localhost:8080/"
        },
        "id": "FRCv8p1sg2oP",
        "outputId": "38dd823f-669b-44b9-f8a9-9142b7e0a28c"
      },
      "source": [
        "weights = torch.ones(4, requires_grad=True)\n",
        "print(weights)\n",
        "for epoch in range(4):\n",
        "  model_output = (weights*3).sum()  # doing backprop\n",
        "  model_output.backward()\n",
        "  print(weights.grad)\n",
        "  weights.grad.zero_()"
      ],
      "execution_count": 20,
      "outputs": [
        {
          "output_type": "stream",
          "name": "stdout",
          "text": [
            "tensor([1., 1., 1., 1.], requires_grad=True)\n",
            "tensor([3., 3., 3., 3.])\n",
            "tensor([3., 3., 3., 3.])\n",
            "tensor([3., 3., 3., 3.])\n",
            "tensor([3., 3., 3., 3.])\n"
          ]
        }
      ]
    },
    {
      "cell_type": "code",
      "metadata": {
        "id": "CnTspWM1hfEo"
      },
      "source": [
        ""
      ],
      "execution_count": null,
      "outputs": []
    }
  ]
}